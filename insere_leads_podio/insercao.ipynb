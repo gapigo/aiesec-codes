{
 "cells": [
  {
   "cell_type": "code",
   "execution_count": 16,
   "metadata": {},
   "outputs": [],
   "source": [
    "from selenium import webdriver\n",
    "from selenium.webdriver.chrome.options import Options\n",
    "\n",
    "chrome_options = Options()\n",
    "chrome_options.add_experimental_option(\"debuggerAddress\", \"127.0.0.1:9014\")\n",
    "driver = webdriver.Chrome(options=chrome_options)"
   ]
  },
  {
   "cell_type": "code",
   "execution_count": 68,
   "metadata": {},
   "outputs": [],
   "source": []
  },
  {
   "cell_type": "code",
   "execution_count": 69,
   "metadata": {},
   "outputs": [],
   "source": [
    "# driver.execute_script(\"console.log('teste')\")\n",
    "current_name = ''\n",
    "driver.execute_script(\"let el = document.createElement('div'); el.style='border: 2px #000; background: #fff; padding: 30px; position: absolute; top: 0; right: 0; z-index: 99999'; document.querySelector('body').appendChild(el); let title = document.createElement('h2'); let current = document.createElement('span'); el.appendChild(title); el.appendChild(current); title.innerText = 'Nome atual'; title.style = 'font-size: 20px; color: #111'; let stop = document.createElement('button'); el.appendChild(stop); current.style = 'font-size: 20px; font-weight: 300; text-transform: uppercase'; stop.innerText = 'Pausar'; stop.style = 'color: #f00; font-size: 20px; text-transform: uppercase'; stop.onclick = (e) => {console.log(e); if(e.target.innerText == 'PAUSAR') {e.target.innerText = 'RETOMAR'; e.target.style.color = '#0f0';} else {e.target.innerText = 'PAUSAR'; e.target.style.color = '#f00'}}; current.innerText = '\" + ('FULANO' or current_name) + \"'; el.style.display = 'flex'; el.style.flexDirection = 'column'; el.style.alignItems = 'center'; el.style.justifyContent = 'center'; el.id = 'elementoDepura'\")\n"
   ]
  },
  {
   "cell_type": "code",
   "execution_count": 74,
   "metadata": {},
   "outputs": [],
   "source": [
    "from selenium.webdriver.common.by import By\n",
    "title = driver.find_element(By.CSS_SELECTOR, '#elementoDepura h2')\n",
    "current = driver.find_element(By.CSS_SELECTOR, '#elementoDepura span')\n",
    "button = driver.find_element(By.CSS_SELECTOR, '#elementoDepura button')\n",
    "paginator = driver.find_element(By.CSS_SELECTOR, '.artdeco-pagination__pages.artdeco-pagination__pages--number')\n",
    "def sel(selector, el=None):\n",
    "    if el:\n",
    "        el.find_element(By.CSS_SELECTOR, selector)\n",
    "    return driver.find_element(By.CSS_SELECTOR, selector)\n",
    "def sels(selector, el=None):\n",
    "    if el:\n",
    "        el.find_elements(By.CSS_SELECTOR, selector)\n",
    "    return driver.find_elements(By.CSS_SELECTOR, selector)"
   ]
  },
  {
   "cell_type": "code",
   "execution_count": 72,
   "metadata": {},
   "outputs": [],
   "source": [
    "from time import sleep\n",
    "def put_on_classify_by_date():\n",
    "    classify_by_el = sel('.artdeco-pill.artdeco-pill--slate.artdeco-pill--3.artdeco-pill--toggle.artdeco-pill--selected.artdeco-dropdown__trigger.artdeco-dropdown__trigger--placement-bottom.ember-view')\n",
    "    classify_by_el.click()\n",
    "    sleep(1)\n",
    "    parent_el = 'div.artdeco-dropdown__content-inner'\n",
    "    data_relevancia = sel(f'{parent_el} ul > li:nth-child(2)')\n",
    "    data_relevancia.click()\n",
    "    sleep(1)\n",
    "    confirmar = sel(f'{parent_el} button.artdeco-button.artdeco-button--primary')\n",
    "    confirmar.click()\n",
    "    sleep(1)\n",
    "    sel('body').click()\n",
    "put_on_classify_by_date()"
   ]
  },
  {
   "cell_type": "code",
   "execution_count": 73,
   "metadata": {},
   "outputs": [],
   "source": [
    "if current.text == 'FULANO':\n",
    "    paginator.find_elements(By.CSS_SELECTOR, 'li')[-1].click()\n",
    "    sleep(3)"
   ]
  },
  {
   "cell_type": "code",
   "execution_count": 102,
   "metadata": {},
   "outputs": [],
   "source": [
    "import re\n",
    "sels('ul.artdeco-list li')[-1].click()\n",
    "sleep(1)\n",
    "nome = sel('h1.display-flex.align-items-center.t-24').text.replace('Candidatura de ', '').split('\\n')[0]\n",
    "classificacao = sel('button.artdeco-dropdown__trigger.artdeco-dropdown__trigger--placement-bottom.ember-view.artdeco-button--3.t-black').text.split('\\n')[0]\n",
    "# if classificacao != 'Classificar como':\n",
    "#     if classificacao != 'Candidatura inadequada':\n",
    "more_button = sel('button.artdeco-button--secondary.artdeco-button--muted.artdeco-button--3')\n",
    "more_button.click()\n",
    "sleep(1)\n",
    "infos = sels('ul[aria-live=\"polite\"] li')\n",
    "email = infos[1].text.split('\\n')[0]\n",
    "telefone = infos[2].text.split('\\n')[0]\n",
    "\n",
    "email = re.findall(r'[\\w.+-]+@[\\w-]+\\.[\\w.-]+', email)[0]\n",
    "telefone = re.findall(r'\\+\\d.+? ', telefone)[0].strip().replace('+55', '')"
   ]
  },
  {
   "cell_type": "code",
   "execution_count": 103,
   "metadata": {},
   "outputs": [
    {
     "data": {
      "text/plain": [
       "('victorharuogeneration@gmail.com', '11962738876')"
      ]
     },
     "execution_count": 103,
     "metadata": {},
     "output_type": "execute_result"
    }
   ],
   "source": [
    "email, telefone"
   ]
  }
 ],
 "metadata": {
  "kernelspec": {
   "display_name": "Python 3",
   "language": "python",
   "name": "python3"
  },
  "language_info": {
   "codemirror_mode": {
    "name": "ipython",
    "version": 3
   },
   "file_extension": ".py",
   "mimetype": "text/x-python",
   "name": "python",
   "nbconvert_exporter": "python",
   "pygments_lexer": "ipython3",
   "version": "3.11.4"
  },
  "orig_nbformat": 4
 },
 "nbformat": 4,
 "nbformat_minor": 2
}
