{
 "cells": [
  {
   "cell_type": "code",
   "execution_count": 388,
   "metadata": {},
   "outputs": [],
   "source": [
    "from selenium.webdriver.common.by import By\n",
    "from time import sleep\n",
    "import re\n",
    "import glob\n",
    "import os\n",
    "import json\n",
    "from selenium import webdriver\n",
    "from selenium.webdriver.chrome.options import Options\n",
    "from selenium.common.exceptions import NoSuchElementException\n",
    "\n",
    "chrome_options = Options()\n",
    "chrome_options.add_experimental_option(\"debuggerAddress\", \"127.0.0.1:9014\")\n",
    "driver = webdriver.Chrome(options=chrome_options)\n",
    "DOWNLOAD_FOLDER = '../downloads'\n",
    "title = current = button = paginator = page_els = ''\n",
    "nome_atual = ''\n",
    "\n",
    "def load_items():\n",
    "    global title, current, button, paginator, page_els\n",
    "    title = driver.find_element(By.CSS_SELECTOR, '#elementoDepura h2')\n",
    "    current = driver.find_element(By.CSS_SELECTOR, '#elementoDepura span')\n",
    "    button = driver.find_element(By.CSS_SELECTOR, '#elementoDepura button')\n",
    "    paginator = driver.find_element(By.CSS_SELECTOR, '.artdeco-pagination__pages.artdeco-pagination__pages--number')\n",
    "    page_els = paginator.find_elements(By.CSS_SELECTOR, 'li')\n",
    "\n",
    "def create_file_if_not_exists():\n",
    "    try:\n",
    "        f = open('povo.json', 'r')\n",
    "        if not f.read().strip():\n",
    "            f.close()\n",
    "            f = open('povo.json', 'w')\n",
    "            f.write('{}')\n",
    "    except FileNotFoundError:\n",
    "        f = open('povo.json', 'w')\n",
    "        f.write('{}')\n",
    "    finally:\n",
    "        f.close()\n",
    "\n",
    "def get_current_name():\n",
    "    create_file_if_not_exists()\n",
    "    try:\n",
    "        f = open('povo.json', 'r')\n",
    "        _dict = json.load(f)\n",
    "        current_index = 0 if not _dict else str(max([int(x) for x in _dict.keys()]))\n",
    "        current_name = '' if current_index == 0 else _dict[current_index]['nome_completo']\n",
    "    except FileNotFoundError:\n",
    "        f = open('povo.json', 'w')\n",
    "        f.write('{}')\n",
    "        current_name = ''\n",
    "    finally:\n",
    "        f.close()\n",
    "    return current_name\n",
    "\n",
    "def start():\n",
    "    current_name = get_current_name()\n",
    "    driver.get('https://www.linkedin.com/hiring/jobs/3569004085/applicants/17381106213/detail/?r=UNRATED%2CGOOD_FIT%2CMAYBE&sort_by=APPLIED_DATE&start=125')\n",
    "    sleep(1)\n",
    "    driver.execute_script(\"let el = document.createElement('div'); el.style='border: 2px #000; background: #fff; padding: 30px; position: absolute; top: 0; right: 0; z-index: 99999'; document.querySelector('body').appendChild(el); let title = document.createElement('h2'); let current = document.createElement('span'); el.appendChild(title); el.appendChild(current); title.innerText = 'Nome atual'; title.style = 'font-size: 20px; color: #111'; let stop = document.createElement('button'); el.appendChild(stop); current.style = 'font-size: 20px; font-weight: 300; text-transform: uppercase'; stop.innerText = 'Pausar'; stop.style = 'color: #f00; font-size: 20px; text-transform: uppercase'; stop.onclick = (e) => {console.log(e); if(e.target.innerText == 'PAUSAR') {e.target.innerText = 'RETOMAR'; e.target.style.color = '#0f0';} else {e.target.innerText = 'PAUSAR'; e.target.style.color = '#f00'}}; current.innerText = '\" + ('FULANO' or current_name) + \"'; el.style.display = 'flex'; el.style.flexDirection = 'column'; el.style.alignItems = 'center'; el.style.justifyContent = 'center'; el.id = 'elementoDepura'\")\n",
    "    load_items()\n",
    "    sleep(1)\n",
    "\n",
    "def sel(selector, el=None):\n",
    "    if el:\n",
    "        el.find_element(By.CSS_SELECTOR, selector)\n",
    "    return driver.find_element(By.CSS_SELECTOR, selector)\n",
    "\n",
    "def sels(selector, el=None):\n",
    "    if el:\n",
    "        el.find_elements(By.CSS_SELECTOR, selector)\n",
    "    return driver.find_elements(By.CSS_SELECTOR, selector)\n",
    "\n",
    "def clicar(el):\n",
    "    webdriver.ActionChains(driver).move_to_element(el).click(el).perform()\n",
    "\n",
    "def change_current_name(name):\n",
    "    driver.execute_script(f\"document.querySelector('#elementoDepura span').innerText = '{name}'\")\n",
    "\n",
    "def put_on_classify_by_date():\n",
    "    classify_by_el = sel('.artdeco-pill.artdeco-pill--slate.artdeco-pill--3.artdeco-pill--toggle.artdeco-pill--selected.artdeco-dropdown__trigger.artdeco-dropdown__trigger--placement-bottom.ember-view')\n",
    "    classify_by_el.click()\n",
    "    sleep(1)\n",
    "    parent_el = 'div.artdeco-dropdown__content-inner'\n",
    "    data_relevancia = sel(f'{parent_el} ul > li:nth-child(2)')\n",
    "    data_relevancia.click()\n",
    "    sleep(1)\n",
    "    confirmar = sel(f'{parent_el} button.artdeco-button.artdeco-button--primary')\n",
    "    confirmar.click()\n",
    "    sleep(1)\n",
    "    sel('body').click()\n",
    "\n",
    "def get_json_dict():\n",
    "    with open('povo.json', 'r', encoding='utf-8') as _json:\n",
    "        reading = ''.join(_json.read()).strip().replace('\\n', '')\n",
    "        reading = reading or '{}'\n",
    "        return json.loads(reading)\n",
    "\n",
    "def get_current_json_index(_dict=None):\n",
    "    create_file_if_not_exists()\n",
    "    _dict = _dict or get_json_dict()\n",
    "    return max([int(x) for x in _dict.keys()] or [0])\n",
    "\n",
    "def update_json(data: dict):\n",
    "    create_file_if_not_exists()\n",
    "    _dict = get_json_dict()\n",
    "    with open('povo.json', 'w', encoding='utf-8') as _json:\n",
    "        current = get_current_json_index(_dict) + 1\n",
    "        _dict[current] = data\n",
    "        _json.write(json.dumps(_dict))\n",
    "\n",
    "def invert(index, _max):\n",
    "    inverted_index = -(_max - index)\n",
    "    return inverted_index if inverted_index < 0 else 0\n",
    "\n",
    "def get_normal_index(index, _max):\n",
    "    normal_index = index if index >= 0 else index + _max\n",
    "    return normal_index\n",
    "\n",
    "def open_page(page_index):\n",
    "    paginator.find_elements(By.CSS_SELECTOR, 'li')[page_index].click()\n",
    "    sleep(3)\n",
    "    load_items()\n",
    "    sleep(2)\n",
    "\n",
    "def locate_current_candidato(current_page):\n",
    "    current_name = get_current_name().lower().replace(' ', '')\n",
    "    if get_current_name() == '': -1, -1\n",
    "    open_page(current_page)\n",
    "    names = sels('ul.artdeco-list li.hiring-applicants__list-item div > div.flex-grow-1.artdeco-entity-lockup__content.ember-view > div:nth-child(1)')\n",
    "    names = [name.text.split('\\n')[0].strip().lower().replace(' ', '') for name in names]\n",
    "    try:\n",
    "        name_index = names.index(current_name)\n",
    "        if name_index  == 0:\n",
    "            if get_normal_index(current_page, len(names)) == 0:\n",
    "                return invert(0, len(page_els)), invert(name_index, len(names))\n",
    "            return current_page - 1, 0\n",
    "        current_index = invert(name_index, len(names))\n",
    "        return current_page, current_index - 1\n",
    "    except ValueError:\n",
    "        # Se entrar aqui, ele não está nessa página, ou ele não achou, então ou ele retorna que não encontrou, ou retorna a busca da próxima página\n",
    "        if get_normal_index(current_page, len(page_els)) == 0: \n",
    "            open_page(-1)\n",
    "            return -1, -1\n",
    "        return locate_current_candidato(current_page-1)\n",
    "\n",
    "def mover_da_pasta_downloads(curriculo_path):\n",
    "    list_of_files = glob.glob(r'C:\\\\Users\\xgabr\\Downloads\\\\*')\n",
    "    latest_file = max(list_of_files, key=os.path.getctime)\n",
    "    os.makedirs(os.path.dirname(DOWNLOAD_FOLDER), exist_ok=True)\n",
    "    # curriculo_path = '.'.join(curriculo_path.split('.')[:-1] + latest_file.split('.')[-1])\n",
    "    curriculo_path += latest_file[latest_file.rfind('.'):]\n",
    "    os.replace(latest_file, curriculo_path)\n",
    "\n",
    "def download_info(el_candidato, index_candidato, tries=5):\n",
    "    global nome_atual\n",
    "    clicar(el_candidato)\n",
    "    sleep(2)\n",
    "    nome = sel('h1.display-flex.align-items-center.t-24').text.replace('Candidatura de ', '').split('\\n')[0]\n",
    "    change_current_name(nome)\n",
    "    nome_atual = nome\n",
    "    classificacao = sel('button.artdeco-dropdown__trigger.artdeco-dropdown__trigger--placement-bottom.ember-view.artdeco-button--3.t-black').text.split('\\n')[0]\n",
    "    # if classificacao != 'Classificar como':\n",
    "    #     if classificacao != 'Candidatura inadequada':\n",
    "    if classificacao not in ['Candidatura adequada', 'Talvez']: return False\n",
    "    more_button = sel('button.artdeco-button--secondary.artdeco-button--muted.artdeco-button--3')\n",
    "    clicar(more_button)\n",
    "    sleep(1)\n",
    "    infos = sels('ul[aria-live=\"polite\"] li')\n",
    "    email = infos[1].text.split('\\n')[0]\n",
    "    telefone = infos[2].text.split('\\n')[0]\n",
    "\n",
    "    email = re.findall(r'[\\w.+-]+@[\\w-]+\\.[\\w.-]+', email)[0]\n",
    "    telefone = re.findall(r'\\+\\d.+? ', telefone)[0].strip().replace('+55', '')\n",
    "    sleep(1)\n",
    "    try:\n",
    "        baixar_button = sel('a.inline-flex.align-items-center.link-without-visited-state.t-16')\n",
    "    except:\n",
    "        try:\n",
    "            baixar_button = sel('.ui-attachment.ui-attachment--doc')\n",
    "        except:\n",
    "            sel('.hiring-resume-viewer__virus-scan-section')\n",
    "            if tries == 0:\n",
    "                raise LookupError('Não foi encontrado o currículo para baixar depois de 5 tentativas!')\n",
    "            # tenta clicar novamente\n",
    "            sleep(2)\n",
    "            try:\n",
    "                clicar(sels('ul.artdeco-list li.hiring-applicants__list-item')[index_candidato+1])\n",
    "            except IndexError:\n",
    "                sleep(2)\n",
    "                print('depara')\n",
    "                print(len(sels('ul.artdeco-list li.hiring-applicants__list-item')))\n",
    "                print(index_candidato+1)\n",
    "                clicar(sels('ul.artdeco-list li.hiring-applicants__list-item')[index_candidato+1])\n",
    "            return download_info(el_candidato, index_candidato, tries-1)\n",
    "        \n",
    "    clicar(baixar_button)\n",
    "    curriculo_path = f'{DOWNLOAD_FOLDER}/{str(get_current_json_index() + 1).zfill(3)}_{nome.replace(\" \", \"_\")}'\n",
    "    mover_da_pasta_downloads(curriculo_path)\n",
    "    update_json({'nome_completo': nome,\n",
    "             'email': email,\n",
    "             'telefone': telefone,\n",
    "             'curriculo': curriculo_path,\n",
    "            })\n",
    "    return True"
   ]
  },
  {
   "cell_type": "code",
   "execution_count": 390,
   "metadata": {},
   "outputs": [],
   "source": [
    "start()\n",
    "put_on_classify_by_date()"
   ]
  },
  {
   "cell_type": "code",
   "execution_count": 398,
   "metadata": {},
   "outputs": [
    {
     "data": {
      "text/plain": [
       "(-3, -2)"
      ]
     },
     "execution_count": 398,
     "metadata": {},
     "output_type": "execute_result"
    }
   ],
   "source": [
    "current_page, current_candidato = locate_current_candidato(-1)\n",
    "current_page, current_candidato"
   ]
  },
  {
   "cell_type": "code",
   "execution_count": 399,
   "metadata": {},
   "outputs": [
    {
     "ename": "NoSuchElementException",
     "evalue": "Message: no such element: Unable to locate element: {\"method\":\"css selector\",\"selector\":\"h1.display-flex.align-items-center.t-24\"}\n  (Session info: chrome=114.0.5735.110); For documentation on this error, please visit: https://www.selenium.dev/documentation/webdriver/troubleshooting/errors#no-such-element-exception\nStacktrace:\nBacktrace:\n\tGetHandleVerifier [0x00BDA813+48355]\n\t(No symbol) [0x00B6C4B1]\n\t(No symbol) [0x00A75358]\n\t(No symbol) [0x00AA09A5]\n\t(No symbol) [0x00AA0B3B]\n\t(No symbol) [0x00ACE232]\n\t(No symbol) [0x00ABA784]\n\t(No symbol) [0x00ACC922]\n\t(No symbol) [0x00ABA536]\n\t(No symbol) [0x00A982DC]\n\t(No symbol) [0x00A993DD]\n\tGetHandleVerifier [0x00E3AABD+2539405]\n\tGetHandleVerifier [0x00E7A78F+2800735]\n\tGetHandleVerifier [0x00E7456C+2775612]\n\tGetHandleVerifier [0x00C651E0+616112]\n\t(No symbol) [0x00B75F8C]\n\t(No symbol) [0x00B72328]\n\t(No symbol) [0x00B7240B]\n\t(No symbol) [0x00B64FF7]\n\tBaseThreadInitThunk [0x75B86BA9+25]\n\tRtlGetFullPathName_UEx [0x77358F9F+1215]\n\tRtlGetFullPathName_UEx [0x77358F6D+1165]\n",
     "output_type": "error",
     "traceback": [
      "\u001b[1;31m---------------------------------------------------------------------------\u001b[0m",
      "\u001b[1;31mNoSuchElementException\u001b[0m                    Traceback (most recent call last)",
      "Cell \u001b[1;32mIn[399], line 7\u001b[0m\n\u001b[0;32m      5\u001b[0m \u001b[39mfor\u001b[39;00m j \u001b[39min\u001b[39;00m \u001b[39mrange\u001b[39m(current_candidato, \u001b[39m-\u001b[39m\u001b[39mlen\u001b[39m(els_candidato)\u001b[39m-\u001b[39m\u001b[39m1\u001b[39m, \u001b[39m-\u001b[39m\u001b[39m1\u001b[39m):\n\u001b[0;32m      6\u001b[0m     sleep(\u001b[39m1\u001b[39m)\n\u001b[1;32m----> 7\u001b[0m     baixado \u001b[39m=\u001b[39m download_info(els_candidato[j], j)\n\u001b[0;32m      8\u001b[0m     \u001b[39mif\u001b[39;00m \u001b[39mnot\u001b[39;00m baixado:\n\u001b[0;32m      9\u001b[0m         parar \u001b[39m=\u001b[39m \u001b[39mTrue\u001b[39;00m\n",
      "Cell \u001b[1;32mIn[388], line 157\u001b[0m, in \u001b[0;36mdownload_info\u001b[1;34m(el_candidato, index_candidato, tries)\u001b[0m\n\u001b[0;32m    155\u001b[0m clicar(el_candidato)\n\u001b[0;32m    156\u001b[0m sleep(\u001b[39m2\u001b[39m)\n\u001b[1;32m--> 157\u001b[0m nome \u001b[39m=\u001b[39m sel(\u001b[39m'\u001b[39;49m\u001b[39mh1.display-flex.align-items-center.t-24\u001b[39;49m\u001b[39m'\u001b[39;49m)\u001b[39m.\u001b[39mtext\u001b[39m.\u001b[39mreplace(\u001b[39m'\u001b[39m\u001b[39mCandidatura de \u001b[39m\u001b[39m'\u001b[39m, \u001b[39m'\u001b[39m\u001b[39m'\u001b[39m)\u001b[39m.\u001b[39msplit(\u001b[39m'\u001b[39m\u001b[39m\\n\u001b[39;00m\u001b[39m'\u001b[39m)[\u001b[39m0\u001b[39m]\n\u001b[0;32m    158\u001b[0m change_current_name(nome)\n\u001b[0;32m    159\u001b[0m nome_atual \u001b[39m=\u001b[39m nome\n",
      "Cell \u001b[1;32mIn[388], line 65\u001b[0m, in \u001b[0;36msel\u001b[1;34m(selector, el)\u001b[0m\n\u001b[0;32m     63\u001b[0m \u001b[39mif\u001b[39;00m el:\n\u001b[0;32m     64\u001b[0m     el\u001b[39m.\u001b[39mfind_element(By\u001b[39m.\u001b[39mCSS_SELECTOR, selector)\n\u001b[1;32m---> 65\u001b[0m \u001b[39mreturn\u001b[39;00m driver\u001b[39m.\u001b[39;49mfind_element(By\u001b[39m.\u001b[39;49mCSS_SELECTOR, selector)\n",
      "File \u001b[1;32mc:\\Python311\\Lib\\site-packages\\selenium\\webdriver\\remote\\webdriver.py:740\u001b[0m, in \u001b[0;36mWebDriver.find_element\u001b[1;34m(self, by, value)\u001b[0m\n\u001b[0;32m    737\u001b[0m     by \u001b[39m=\u001b[39m By\u001b[39m.\u001b[39mCSS_SELECTOR\n\u001b[0;32m    738\u001b[0m     value \u001b[39m=\u001b[39m \u001b[39mf\u001b[39m\u001b[39m'\u001b[39m\u001b[39m[name=\u001b[39m\u001b[39m\"\u001b[39m\u001b[39m{\u001b[39;00mvalue\u001b[39m}\u001b[39;00m\u001b[39m\"\u001b[39m\u001b[39m]\u001b[39m\u001b[39m'\u001b[39m\n\u001b[1;32m--> 740\u001b[0m \u001b[39mreturn\u001b[39;00m \u001b[39mself\u001b[39;49m\u001b[39m.\u001b[39;49mexecute(Command\u001b[39m.\u001b[39;49mFIND_ELEMENT, {\u001b[39m\"\u001b[39;49m\u001b[39musing\u001b[39;49m\u001b[39m\"\u001b[39;49m: by, \u001b[39m\"\u001b[39;49m\u001b[39mvalue\u001b[39;49m\u001b[39m\"\u001b[39;49m: value})[\u001b[39m\"\u001b[39m\u001b[39mvalue\u001b[39m\u001b[39m\"\u001b[39m]\n",
      "File \u001b[1;32mc:\\Python311\\Lib\\site-packages\\selenium\\webdriver\\remote\\webdriver.py:346\u001b[0m, in \u001b[0;36mWebDriver.execute\u001b[1;34m(self, driver_command, params)\u001b[0m\n\u001b[0;32m    344\u001b[0m response \u001b[39m=\u001b[39m \u001b[39mself\u001b[39m\u001b[39m.\u001b[39mcommand_executor\u001b[39m.\u001b[39mexecute(driver_command, params)\n\u001b[0;32m    345\u001b[0m \u001b[39mif\u001b[39;00m response:\n\u001b[1;32m--> 346\u001b[0m     \u001b[39mself\u001b[39;49m\u001b[39m.\u001b[39;49merror_handler\u001b[39m.\u001b[39;49mcheck_response(response)\n\u001b[0;32m    347\u001b[0m     response[\u001b[39m\"\u001b[39m\u001b[39mvalue\u001b[39m\u001b[39m\"\u001b[39m] \u001b[39m=\u001b[39m \u001b[39mself\u001b[39m\u001b[39m.\u001b[39m_unwrap_value(response\u001b[39m.\u001b[39mget(\u001b[39m\"\u001b[39m\u001b[39mvalue\u001b[39m\u001b[39m\"\u001b[39m, \u001b[39mNone\u001b[39;00m))\n\u001b[0;32m    348\u001b[0m     \u001b[39mreturn\u001b[39;00m response\n",
      "File \u001b[1;32mc:\\Python311\\Lib\\site-packages\\selenium\\webdriver\\remote\\errorhandler.py:245\u001b[0m, in \u001b[0;36mErrorHandler.check_response\u001b[1;34m(self, response)\u001b[0m\n\u001b[0;32m    243\u001b[0m         alert_text \u001b[39m=\u001b[39m value[\u001b[39m\"\u001b[39m\u001b[39malert\u001b[39m\u001b[39m\"\u001b[39m]\u001b[39m.\u001b[39mget(\u001b[39m\"\u001b[39m\u001b[39mtext\u001b[39m\u001b[39m\"\u001b[39m)\n\u001b[0;32m    244\u001b[0m     \u001b[39mraise\u001b[39;00m exception_class(message, screen, stacktrace, alert_text)  \u001b[39m# type: ignore[call-arg]  # mypy is not smart enough here\u001b[39;00m\n\u001b[1;32m--> 245\u001b[0m \u001b[39mraise\u001b[39;00m exception_class(message, screen, stacktrace)\n",
      "\u001b[1;31mNoSuchElementException\u001b[0m: Message: no such element: Unable to locate element: {\"method\":\"css selector\",\"selector\":\"h1.display-flex.align-items-center.t-24\"}\n  (Session info: chrome=114.0.5735.110); For documentation on this error, please visit: https://www.selenium.dev/documentation/webdriver/troubleshooting/errors#no-such-element-exception\nStacktrace:\nBacktrace:\n\tGetHandleVerifier [0x00BDA813+48355]\n\t(No symbol) [0x00B6C4B1]\n\t(No symbol) [0x00A75358]\n\t(No symbol) [0x00AA09A5]\n\t(No symbol) [0x00AA0B3B]\n\t(No symbol) [0x00ACE232]\n\t(No symbol) [0x00ABA784]\n\t(No symbol) [0x00ACC922]\n\t(No symbol) [0x00ABA536]\n\t(No symbol) [0x00A982DC]\n\t(No symbol) [0x00A993DD]\n\tGetHandleVerifier [0x00E3AABD+2539405]\n\tGetHandleVerifier [0x00E7A78F+2800735]\n\tGetHandleVerifier [0x00E7456C+2775612]\n\tGetHandleVerifier [0x00C651E0+616112]\n\t(No symbol) [0x00B75F8C]\n\t(No symbol) [0x00B72328]\n\t(No symbol) [0x00B7240B]\n\t(No symbol) [0x00B64FF7]\n\tBaseThreadInitThunk [0x75B86BA9+25]\n\tRtlGetFullPathName_UEx [0x77358F9F+1215]\n\tRtlGetFullPathName_UEx [0x77358F6D+1165]\n"
     ]
    }
   ],
   "source": [
    "for i in range(current_page, -len(page_els)-1, -1):\n",
    "    open_page(i)\n",
    "    parar = False\n",
    "    els_candidato = sels('ul.artdeco-list li.hiring-applicants__list-item')\n",
    "    for j in range(current_candidato, -len(els_candidato)-1, -1):\n",
    "        sleep(1)\n",
    "        baixado = download_info(els_candidato[j], j)\n",
    "        if not baixado:\n",
    "            parar = True\n",
    "    current_candidato = -1\n",
    "    if parar:\n",
    "        _dict = get_json_dict()\n",
    "        nome_atual = _dict[str(get_current_json_index(_dict))]['nome_completo']\n",
    "        print('Parei em ' + nome_atual + ' porque não estão mais como válidos.')\n",
    "        break\n",
    "    if i == -len(page_els):\n",
    "        print('Todos nomes baixados com sucesso!')"
   ]
  },
  {
   "cell_type": "code",
   "execution_count": 393,
   "metadata": {},
   "outputs": [],
   "source": [
    "if current.text == 'FULANO':\n",
    "    paginator.find_elements(By.CSS_SELECTOR, 'li')[-1].click()\n",
    "    sleep(3)"
   ]
  },
  {
   "cell_type": "code",
   "execution_count": 394,
   "metadata": {},
   "outputs": [
    {
     "data": {
      "text/plain": [
       "'ab'"
      ]
     },
     "execution_count": 394,
     "metadata": {},
     "output_type": "execute_result"
    }
   ],
   "source": [
    "['a'][-1] + ['b'][-1]"
   ]
  },
  {
   "cell_type": "code",
   "execution_count": 395,
   "metadata": {},
   "outputs": [
    {
     "data": {
      "text/plain": [
       "'novonome.docx'"
      ]
     },
     "execution_count": 395,
     "metadata": {},
     "output_type": "execute_result"
    }
   ],
   "source": [
    "a = 'meu.paudeasa.docx'\n",
    "b = 'novonome'\n",
    "b += a[a.rfind('.'):]\n",
    "b"
   ]
  },
  {
   "cell_type": "code",
   "execution_count": 396,
   "metadata": {},
   "outputs": [],
   "source": [
    "paginator.find_elements(By.CSS_SELECTOR, 'li')[-1].click()"
   ]
  },
  {
   "cell_type": "code",
   "execution_count": 397,
   "metadata": {},
   "outputs": [],
   "source": [
    "from selenium import webdriver\n",
    "from selenium.webdriver.common.action_chains import ActionChains\n",
    "\n"
   ]
  }
 ],
 "metadata": {
  "kernelspec": {
   "display_name": "Python 3",
   "language": "python",
   "name": "python3"
  },
  "language_info": {
   "codemirror_mode": {
    "name": "ipython",
    "version": 3
   },
   "file_extension": ".py",
   "mimetype": "text/x-python",
   "name": "python",
   "nbconvert_exporter": "python",
   "pygments_lexer": "ipython3",
   "version": "3.11.4"
  },
  "orig_nbformat": 4
 },
 "nbformat": 4,
 "nbformat_minor": 2
}
